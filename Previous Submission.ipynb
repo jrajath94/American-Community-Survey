{
 "cells": [
  {
   "cell_type": "code",
   "execution_count": 1,
   "metadata": {},
   "outputs": [],
   "source": [
    "%matplotlib inline\n",
    "import pandas as pd\n",
    "import matplotlib.pyplot as plt\n",
    "import bqplot.pyplot as bplt\n",
    "import numpy as np\n",
    "import ipywidgets\n",
    "import matplotlib.colors as mpl_colors\n",
    "import seaborn as sns\n",
    "import bqplot\n",
    "import random"
   ]
  },
  {
   "cell_type": "code",
   "execution_count": 2,
   "metadata": {},
   "outputs": [],
   "source": [
    "government = pd.read_csv(\"psam_h17.csv\")"
   ]
  },
  {
   "cell_type": "code",
   "execution_count": 3,
   "metadata": {},
   "outputs": [
    {
     "data": {
      "text/plain": [
       "(59110, 234)"
      ]
     },
     "execution_count": 3,
     "metadata": {},
     "output_type": "execute_result"
    }
   ],
   "source": [
    "government.shape"
   ]
  },
  {
   "cell_type": "code",
   "execution_count": 4,
   "metadata": {},
   "outputs": [
    {
     "data": {
      "text/html": [
       "<div>\n",
       "<style scoped>\n",
       "    .dataframe tbody tr th:only-of-type {\n",
       "        vertical-align: middle;\n",
       "    }\n",
       "\n",
       "    .dataframe tbody tr th {\n",
       "        vertical-align: top;\n",
       "    }\n",
       "\n",
       "    .dataframe thead th {\n",
       "        text-align: right;\n",
       "    }\n",
       "</style>\n",
       "<table border=\"1\" class=\"dataframe\">\n",
       "  <thead>\n",
       "    <tr style=\"text-align: right;\">\n",
       "      <th></th>\n",
       "      <th>RT</th>\n",
       "      <th>SERIALNO</th>\n",
       "      <th>DIVISION</th>\n",
       "      <th>PUMA</th>\n",
       "      <th>REGION</th>\n",
       "      <th>ST</th>\n",
       "      <th>ADJHSG</th>\n",
       "      <th>ADJINC</th>\n",
       "      <th>WGTP</th>\n",
       "      <th>NP</th>\n",
       "      <th>...</th>\n",
       "      <th>WGTP71</th>\n",
       "      <th>WGTP72</th>\n",
       "      <th>WGTP73</th>\n",
       "      <th>WGTP74</th>\n",
       "      <th>WGTP75</th>\n",
       "      <th>WGTP76</th>\n",
       "      <th>WGTP77</th>\n",
       "      <th>WGTP78</th>\n",
       "      <th>WGTP79</th>\n",
       "      <th>WGTP80</th>\n",
       "    </tr>\n",
       "  </thead>\n",
       "  <tbody>\n",
       "    <tr>\n",
       "      <th>0</th>\n",
       "      <td>H</td>\n",
       "      <td>2018GQ0000022</td>\n",
       "      <td>3</td>\n",
       "      <td>2200</td>\n",
       "      <td>2</td>\n",
       "      <td>17</td>\n",
       "      <td>1000000</td>\n",
       "      <td>1013097</td>\n",
       "      <td>0</td>\n",
       "      <td>1</td>\n",
       "      <td>...</td>\n",
       "      <td>0</td>\n",
       "      <td>0</td>\n",
       "      <td>0</td>\n",
       "      <td>0</td>\n",
       "      <td>0</td>\n",
       "      <td>0</td>\n",
       "      <td>0</td>\n",
       "      <td>0</td>\n",
       "      <td>0</td>\n",
       "      <td>0</td>\n",
       "    </tr>\n",
       "    <tr>\n",
       "      <th>1</th>\n",
       "      <td>H</td>\n",
       "      <td>2018GQ0000084</td>\n",
       "      <td>3</td>\n",
       "      <td>3411</td>\n",
       "      <td>2</td>\n",
       "      <td>17</td>\n",
       "      <td>1000000</td>\n",
       "      <td>1013097</td>\n",
       "      <td>0</td>\n",
       "      <td>1</td>\n",
       "      <td>...</td>\n",
       "      <td>0</td>\n",
       "      <td>0</td>\n",
       "      <td>0</td>\n",
       "      <td>0</td>\n",
       "      <td>0</td>\n",
       "      <td>0</td>\n",
       "      <td>0</td>\n",
       "      <td>0</td>\n",
       "      <td>0</td>\n",
       "      <td>0</td>\n",
       "    </tr>\n",
       "    <tr>\n",
       "      <th>2</th>\n",
       "      <td>H</td>\n",
       "      <td>2018GQ0000116</td>\n",
       "      <td>3</td>\n",
       "      <td>3504</td>\n",
       "      <td>2</td>\n",
       "      <td>17</td>\n",
       "      <td>1000000</td>\n",
       "      <td>1013097</td>\n",
       "      <td>0</td>\n",
       "      <td>1</td>\n",
       "      <td>...</td>\n",
       "      <td>0</td>\n",
       "      <td>0</td>\n",
       "      <td>0</td>\n",
       "      <td>0</td>\n",
       "      <td>0</td>\n",
       "      <td>0</td>\n",
       "      <td>0</td>\n",
       "      <td>0</td>\n",
       "      <td>0</td>\n",
       "      <td>0</td>\n",
       "    </tr>\n",
       "    <tr>\n",
       "      <th>3</th>\n",
       "      <td>H</td>\n",
       "      <td>2018GQ0000140</td>\n",
       "      <td>3</td>\n",
       "      <td>3207</td>\n",
       "      <td>2</td>\n",
       "      <td>17</td>\n",
       "      <td>1000000</td>\n",
       "      <td>1013097</td>\n",
       "      <td>0</td>\n",
       "      <td>1</td>\n",
       "      <td>...</td>\n",
       "      <td>0</td>\n",
       "      <td>0</td>\n",
       "      <td>0</td>\n",
       "      <td>0</td>\n",
       "      <td>0</td>\n",
       "      <td>0</td>\n",
       "      <td>0</td>\n",
       "      <td>0</td>\n",
       "      <td>0</td>\n",
       "      <td>0</td>\n",
       "    </tr>\n",
       "    <tr>\n",
       "      <th>4</th>\n",
       "      <td>H</td>\n",
       "      <td>2018GQ0000179</td>\n",
       "      <td>3</td>\n",
       "      <td>3529</td>\n",
       "      <td>2</td>\n",
       "      <td>17</td>\n",
       "      <td>1000000</td>\n",
       "      <td>1013097</td>\n",
       "      <td>0</td>\n",
       "      <td>1</td>\n",
       "      <td>...</td>\n",
       "      <td>0</td>\n",
       "      <td>0</td>\n",
       "      <td>0</td>\n",
       "      <td>0</td>\n",
       "      <td>0</td>\n",
       "      <td>0</td>\n",
       "      <td>0</td>\n",
       "      <td>0</td>\n",
       "      <td>0</td>\n",
       "      <td>0</td>\n",
       "    </tr>\n",
       "  </tbody>\n",
       "</table>\n",
       "<p>5 rows × 234 columns</p>\n",
       "</div>"
      ],
      "text/plain": [
       "  RT       SERIALNO  DIVISION  PUMA  REGION  ST   ADJHSG   ADJINC  WGTP  NP  \\\n",
       "0  H  2018GQ0000022         3  2200       2  17  1000000  1013097     0   1   \n",
       "1  H  2018GQ0000084         3  3411       2  17  1000000  1013097     0   1   \n",
       "2  H  2018GQ0000116         3  3504       2  17  1000000  1013097     0   1   \n",
       "3  H  2018GQ0000140         3  3207       2  17  1000000  1013097     0   1   \n",
       "4  H  2018GQ0000179         3  3529       2  17  1000000  1013097     0   1   \n",
       "\n",
       "   ...  WGTP71  WGTP72  WGTP73  WGTP74  WGTP75  WGTP76  WGTP77  WGTP78  \\\n",
       "0  ...       0       0       0       0       0       0       0       0   \n",
       "1  ...       0       0       0       0       0       0       0       0   \n",
       "2  ...       0       0       0       0       0       0       0       0   \n",
       "3  ...       0       0       0       0       0       0       0       0   \n",
       "4  ...       0       0       0       0       0       0       0       0   \n",
       "\n",
       "   WGTP79  WGTP80  \n",
       "0       0       0  \n",
       "1       0       0  \n",
       "2       0       0  \n",
       "3       0       0  \n",
       "4       0       0  \n",
       "\n",
       "[5 rows x 234 columns]"
      ]
     },
     "execution_count": 4,
     "metadata": {},
     "output_type": "execute_result"
    }
   ],
   "source": [
    "government.head()"
   ]
  },
  {
   "cell_type": "markdown",
   "metadata": {},
   "source": [
    "Due by class next week. Submit in a Jupyter notebook.\n",
    "\n",
    "Identify a dataset to explore. \n",
    "This will be iterative! You probably won't get one you like on the first try.\n",
    "Check out sources like data.world, data.illinois.gov, data.gov,developer.marvel.com, IDB, etc.\n",
    "or the dataset doc that lives right here\n",
    "Explore the dataset in a Jupyter notebook. Make sure you include things that did and did not work. (30 pts)\n",
    "Summarize the characteristics of the dataset in words: what does it represent, what are the fields/columns/rows, what data types are they, etc (30 pts)\n",
    "Your datasets need to be submitted as well. To do this, include this information in your Jupyter notebook (40 pts):\n",
    "\n",
    "What is the \"name\" of the dataset?\n",
    "Where did you obtain it?\n",
    "Where can we obtain it? (i.e., URL)\n",
    "What is the license of the dataset? What are we allowed to do with it?\n",
    "How big is it in file size and in items?\n",
    "Make a simple plot showing a relationship of interest. You can use matplotlib or pandas (or other). Don't worry about colors, labels or anything else of that nature!"
   ]
  },
  {
   "cell_type": "code",
   "execution_count": 5,
   "metadata": {},
   "outputs": [
    {
     "data": {
      "text/plain": [
       "Index(['RT', 'SERIALNO', 'DIVISION', 'PUMA', 'REGION', 'ST', 'ADJHSG',\n",
       "       'ADJINC', 'WGTP', 'NP',\n",
       "       ...\n",
       "       'WGTP71', 'WGTP72', 'WGTP73', 'WGTP74', 'WGTP75', 'WGTP76', 'WGTP77',\n",
       "       'WGTP78', 'WGTP79', 'WGTP80'],\n",
       "      dtype='object', length=234)"
      ]
     },
     "execution_count": 5,
     "metadata": {},
     "output_type": "execute_result"
    }
   ],
   "source": [
    "government.columns"
   ]
  },
  {
   "cell_type": "code",
   "execution_count": 6,
   "metadata": {},
   "outputs": [
    {
     "data": {
      "text/html": [
       "<div>\n",
       "<style scoped>\n",
       "    .dataframe tbody tr th:only-of-type {\n",
       "        vertical-align: middle;\n",
       "    }\n",
       "\n",
       "    .dataframe tbody tr th {\n",
       "        vertical-align: top;\n",
       "    }\n",
       "\n",
       "    .dataframe thead th {\n",
       "        text-align: right;\n",
       "    }\n",
       "</style>\n",
       "<table border=\"1\" class=\"dataframe\">\n",
       "  <thead>\n",
       "    <tr style=\"text-align: right;\">\n",
       "      <th></th>\n",
       "      <th>DIVISION</th>\n",
       "      <th>PUMA</th>\n",
       "      <th>REGION</th>\n",
       "      <th>ST</th>\n",
       "      <th>ADJHSG</th>\n",
       "      <th>ADJINC</th>\n",
       "      <th>WGTP</th>\n",
       "      <th>NP</th>\n",
       "      <th>TYPE</th>\n",
       "      <th>ACCESS</th>\n",
       "      <th>...</th>\n",
       "      <th>WGTP71</th>\n",
       "      <th>WGTP72</th>\n",
       "      <th>WGTP73</th>\n",
       "      <th>WGTP74</th>\n",
       "      <th>WGTP75</th>\n",
       "      <th>WGTP76</th>\n",
       "      <th>WGTP77</th>\n",
       "      <th>WGTP78</th>\n",
       "      <th>WGTP79</th>\n",
       "      <th>WGTP80</th>\n",
       "    </tr>\n",
       "  </thead>\n",
       "  <tbody>\n",
       "    <tr>\n",
       "      <th>count</th>\n",
       "      <td>59110.0</td>\n",
       "      <td>59110.000000</td>\n",
       "      <td>59110.0</td>\n",
       "      <td>59110.0</td>\n",
       "      <td>59110.0</td>\n",
       "      <td>59110.0</td>\n",
       "      <td>59110.000000</td>\n",
       "      <td>59110.000000</td>\n",
       "      <td>59110.000000</td>\n",
       "      <td>50297.000000</td>\n",
       "      <td>...</td>\n",
       "      <td>59110.000000</td>\n",
       "      <td>59110.000000</td>\n",
       "      <td>59110.000000</td>\n",
       "      <td>59110.000000</td>\n",
       "      <td>59110.000000</td>\n",
       "      <td>59110.000000</td>\n",
       "      <td>59110.000000</td>\n",
       "      <td>59110.000000</td>\n",
       "      <td>59110.000000</td>\n",
       "      <td>59110.000000</td>\n",
       "    </tr>\n",
       "    <tr>\n",
       "      <th>mean</th>\n",
       "      <td>3.0</td>\n",
       "      <td>2451.809186</td>\n",
       "      <td>2.0</td>\n",
       "      <td>17.0</td>\n",
       "      <td>1000000.0</td>\n",
       "      <td>1013097.0</td>\n",
       "      <td>90.952055</td>\n",
       "      <td>2.139333</td>\n",
       "      <td>1.133192</td>\n",
       "      <td>1.253991</td>\n",
       "      <td>...</td>\n",
       "      <td>90.956911</td>\n",
       "      <td>90.950939</td>\n",
       "      <td>90.952055</td>\n",
       "      <td>90.952478</td>\n",
       "      <td>90.954728</td>\n",
       "      <td>90.953257</td>\n",
       "      <td>90.954356</td>\n",
       "      <td>90.950211</td>\n",
       "      <td>90.949281</td>\n",
       "      <td>90.949450</td>\n",
       "    </tr>\n",
       "    <tr>\n",
       "      <th>std</th>\n",
       "      <td>0.0</td>\n",
       "      <td>1169.633807</td>\n",
       "      <td>0.0</td>\n",
       "      <td>0.0</td>\n",
       "      <td>0.0</td>\n",
       "      <td>0.0</td>\n",
       "      <td>82.029191</td>\n",
       "      <td>1.453204</td>\n",
       "      <td>0.448169</td>\n",
       "      <td>0.648319</td>\n",
       "      <td>...</td>\n",
       "      <td>99.982432</td>\n",
       "      <td>101.676822</td>\n",
       "      <td>100.662916</td>\n",
       "      <td>100.443866</td>\n",
       "      <td>100.167259</td>\n",
       "      <td>100.968800</td>\n",
       "      <td>100.032230</td>\n",
       "      <td>100.462027</td>\n",
       "      <td>98.817235</td>\n",
       "      <td>102.126819</td>\n",
       "    </tr>\n",
       "    <tr>\n",
       "      <th>min</th>\n",
       "      <td>3.0</td>\n",
       "      <td>104.000000</td>\n",
       "      <td>2.0</td>\n",
       "      <td>17.0</td>\n",
       "      <td>1000000.0</td>\n",
       "      <td>1013097.0</td>\n",
       "      <td>0.000000</td>\n",
       "      <td>0.000000</td>\n",
       "      <td>1.000000</td>\n",
       "      <td>1.000000</td>\n",
       "      <td>...</td>\n",
       "      <td>0.000000</td>\n",
       "      <td>-23.000000</td>\n",
       "      <td>0.000000</td>\n",
       "      <td>-8.000000</td>\n",
       "      <td>0.000000</td>\n",
       "      <td>0.000000</td>\n",
       "      <td>0.000000</td>\n",
       "      <td>0.000000</td>\n",
       "      <td>0.000000</td>\n",
       "      <td>0.000000</td>\n",
       "    </tr>\n",
       "    <tr>\n",
       "      <th>25%</th>\n",
       "      <td>3.0</td>\n",
       "      <td>1300.000000</td>\n",
       "      <td>2.0</td>\n",
       "      <td>17.0</td>\n",
       "      <td>1000000.0</td>\n",
       "      <td>1013097.0</td>\n",
       "      <td>40.000000</td>\n",
       "      <td>1.000000</td>\n",
       "      <td>1.000000</td>\n",
       "      <td>1.000000</td>\n",
       "      <td>...</td>\n",
       "      <td>23.000000</td>\n",
       "      <td>23.000000</td>\n",
       "      <td>23.000000</td>\n",
       "      <td>23.000000</td>\n",
       "      <td>23.000000</td>\n",
       "      <td>23.000000</td>\n",
       "      <td>23.000000</td>\n",
       "      <td>23.000000</td>\n",
       "      <td>24.000000</td>\n",
       "      <td>23.000000</td>\n",
       "    </tr>\n",
       "    <tr>\n",
       "      <th>50%</th>\n",
       "      <td>3.0</td>\n",
       "      <td>3105.000000</td>\n",
       "      <td>2.0</td>\n",
       "      <td>17.0</td>\n",
       "      <td>1000000.0</td>\n",
       "      <td>1013097.0</td>\n",
       "      <td>75.000000</td>\n",
       "      <td>2.000000</td>\n",
       "      <td>1.000000</td>\n",
       "      <td>1.000000</td>\n",
       "      <td>...</td>\n",
       "      <td>65.000000</td>\n",
       "      <td>65.000000</td>\n",
       "      <td>66.000000</td>\n",
       "      <td>65.000000</td>\n",
       "      <td>66.000000</td>\n",
       "      <td>66.000000</td>\n",
       "      <td>66.000000</td>\n",
       "      <td>66.000000</td>\n",
       "      <td>67.000000</td>\n",
       "      <td>65.000000</td>\n",
       "    </tr>\n",
       "    <tr>\n",
       "      <th>75%</th>\n",
       "      <td>3.0</td>\n",
       "      <td>3418.000000</td>\n",
       "      <td>2.0</td>\n",
       "      <td>17.0</td>\n",
       "      <td>1000000.0</td>\n",
       "      <td>1013097.0</td>\n",
       "      <td>118.000000</td>\n",
       "      <td>3.000000</td>\n",
       "      <td>1.000000</td>\n",
       "      <td>1.000000</td>\n",
       "      <td>...</td>\n",
       "      <td>123.000000</td>\n",
       "      <td>123.000000</td>\n",
       "      <td>122.000000</td>\n",
       "      <td>123.000000</td>\n",
       "      <td>123.000000</td>\n",
       "      <td>122.000000</td>\n",
       "      <td>123.000000</td>\n",
       "      <td>123.000000</td>\n",
       "      <td>123.000000</td>\n",
       "      <td>123.000000</td>\n",
       "    </tr>\n",
       "    <tr>\n",
       "      <th>max</th>\n",
       "      <td>3.0</td>\n",
       "      <td>3700.000000</td>\n",
       "      <td>2.0</td>\n",
       "      <td>17.0</td>\n",
       "      <td>1000000.0</td>\n",
       "      <td>1013097.0</td>\n",
       "      <td>1249.000000</td>\n",
       "      <td>17.000000</td>\n",
       "      <td>3.000000</td>\n",
       "      <td>3.000000</td>\n",
       "      <td>...</td>\n",
       "      <td>1612.000000</td>\n",
       "      <td>1914.000000</td>\n",
       "      <td>2136.000000</td>\n",
       "      <td>1630.000000</td>\n",
       "      <td>1869.000000</td>\n",
       "      <td>1834.000000</td>\n",
       "      <td>1589.000000</td>\n",
       "      <td>1581.000000</td>\n",
       "      <td>1319.000000</td>\n",
       "      <td>1894.000000</td>\n",
       "    </tr>\n",
       "  </tbody>\n",
       "</table>\n",
       "<p>8 rows × 232 columns</p>\n",
       "</div>"
      ],
      "text/plain": [
       "       DIVISION          PUMA   REGION       ST     ADJHSG     ADJINC  \\\n",
       "count   59110.0  59110.000000  59110.0  59110.0    59110.0    59110.0   \n",
       "mean        3.0   2451.809186      2.0     17.0  1000000.0  1013097.0   \n",
       "std         0.0   1169.633807      0.0      0.0        0.0        0.0   \n",
       "min         3.0    104.000000      2.0     17.0  1000000.0  1013097.0   \n",
       "25%         3.0   1300.000000      2.0     17.0  1000000.0  1013097.0   \n",
       "50%         3.0   3105.000000      2.0     17.0  1000000.0  1013097.0   \n",
       "75%         3.0   3418.000000      2.0     17.0  1000000.0  1013097.0   \n",
       "max         3.0   3700.000000      2.0     17.0  1000000.0  1013097.0   \n",
       "\n",
       "               WGTP            NP          TYPE        ACCESS  ...  \\\n",
       "count  59110.000000  59110.000000  59110.000000  50297.000000  ...   \n",
       "mean      90.952055      2.139333      1.133192      1.253991  ...   \n",
       "std       82.029191      1.453204      0.448169      0.648319  ...   \n",
       "min        0.000000      0.000000      1.000000      1.000000  ...   \n",
       "25%       40.000000      1.000000      1.000000      1.000000  ...   \n",
       "50%       75.000000      2.000000      1.000000      1.000000  ...   \n",
       "75%      118.000000      3.000000      1.000000      1.000000  ...   \n",
       "max     1249.000000     17.000000      3.000000      3.000000  ...   \n",
       "\n",
       "             WGTP71        WGTP72        WGTP73        WGTP74        WGTP75  \\\n",
       "count  59110.000000  59110.000000  59110.000000  59110.000000  59110.000000   \n",
       "mean      90.956911     90.950939     90.952055     90.952478     90.954728   \n",
       "std       99.982432    101.676822    100.662916    100.443866    100.167259   \n",
       "min        0.000000    -23.000000      0.000000     -8.000000      0.000000   \n",
       "25%       23.000000     23.000000     23.000000     23.000000     23.000000   \n",
       "50%       65.000000     65.000000     66.000000     65.000000     66.000000   \n",
       "75%      123.000000    123.000000    122.000000    123.000000    123.000000   \n",
       "max     1612.000000   1914.000000   2136.000000   1630.000000   1869.000000   \n",
       "\n",
       "             WGTP76        WGTP77        WGTP78        WGTP79        WGTP80  \n",
       "count  59110.000000  59110.000000  59110.000000  59110.000000  59110.000000  \n",
       "mean      90.953257     90.954356     90.950211     90.949281     90.949450  \n",
       "std      100.968800    100.032230    100.462027     98.817235    102.126819  \n",
       "min        0.000000      0.000000      0.000000      0.000000      0.000000  \n",
       "25%       23.000000     23.000000     23.000000     24.000000     23.000000  \n",
       "50%       66.000000     66.000000     66.000000     67.000000     65.000000  \n",
       "75%      122.000000    123.000000    123.000000    123.000000    123.000000  \n",
       "max     1834.000000   1589.000000   1581.000000   1319.000000   1894.000000  \n",
       "\n",
       "[8 rows x 232 columns]"
      ]
     },
     "execution_count": 6,
     "metadata": {},
     "output_type": "execute_result"
    }
   ],
   "source": [
    "government.describe()"
   ]
  },
  {
   "cell_type": "code",
   "execution_count": 7,
   "metadata": {},
   "outputs": [
    {
     "data": {
      "text/plain": [
       "MHP       57991\n",
       "FULP      57797\n",
       "SMP       56237\n",
       "VACS      55646\n",
       "AGS       52915\n",
       "          ...  \n",
       "WGTP25        0\n",
       "WGTP24        0\n",
       "WGTP23        0\n",
       "WGTP22        0\n",
       "RT            0\n",
       "Length: 234, dtype: int64"
      ]
     },
     "execution_count": 7,
     "metadata": {},
     "output_type": "execute_result"
    }
   ],
   "source": [
    "government.isnull().sum().sort_values(ascending=False)"
   ]
  },
  {
   "cell_type": "code",
   "execution_count": 8,
   "metadata": {},
   "outputs": [],
   "source": [
    "#with pd.option_context('display.max_rows', None, 'display.max_columns', None):  # more options can be specified also\n",
    " #   print(government.isnull().sum().sort_values(ascending=False))"
   ]
  },
  {
   "cell_type": "code",
   "execution_count": 9,
   "metadata": {},
   "outputs": [
    {
     "data": {
      "text/plain": [
       "(59110, 234)"
      ]
     },
     "execution_count": 9,
     "metadata": {},
     "output_type": "execute_result"
    }
   ],
   "source": [
    "government.shape"
   ]
  },
  {
   "cell_type": "markdown",
   "metadata": {},
   "source": [
    "Mean Rent of the people who participated in the survey - "
   ]
  },
  {
   "cell_type": "code",
   "execution_count": 10,
   "metadata": {},
   "outputs": [],
   "source": [
    "average_rent_per_puma = government.groupby(['PUMA'])['RNTP'].mean().reset_index()\n",
    "average_rent_per_puma['PUMA'] = average_rent_per_puma['PUMA'].astype(str)"
   ]
  },
  {
   "cell_type": "code",
   "execution_count": 11,
   "metadata": {
    "scrolled": true
   },
   "outputs": [
    {
     "data": {
      "image/png": "[encoded data removed]",
      "text/plain": [
       "<Figure size 1440x720 with 1 Axes>"
      ]
     },
     "metadata": {
      "needs_background": "light"
     },
     "output_type": "display_data"
    }
   ],
   "source": [
    "fig, ax = plt.subplots(figsize=(20,10))\n",
    "\n",
    "plt.bar(average_rent_per_puma['PUMA'],average_rent_per_puma['RNTP'])\n",
    "plt.xticks(average_rent_per_puma['PUMA'],rotation=90)\n",
    "#plt.xrot(rot=45)\n",
    "plt.show()\n"
   ]
  },
  {
   "cell_type": "code",
   "execution_count": 12,
   "metadata": {},
   "outputs": [
    {
     "name": "stdout",
     "output_type": "stream",
     "text": [
      "    PUMA         RNTP\n",
      "0    104   496.987500\n",
      "1    105   614.451220\n",
      "2    202   505.407407\n",
      "3    300   531.176471\n",
      "4    401   471.226994\n",
      "5    501   497.837500\n",
      "6    600   493.387097\n",
      "7    700   463.865546\n",
      "8    800   431.839080\n",
      "9    900   566.425856\n",
      "10  1001   508.157895\n",
      "11  1104   855.726496\n",
      "12  1105   623.044248\n",
      "13  1204   784.666667\n",
      "14  1205   551.925926\n",
      "15  1300   674.482759\n",
      "16  1500   551.953125\n",
      "17  1602   489.295337\n",
      "18  1701   660.041152\n",
      "19  1900   681.854839\n",
      "20  2000   757.559809\n",
      "21  2100   784.769737\n",
      "22  2200   518.082192\n",
      "23  2300   685.539568\n",
      "24  2400   635.614035\n",
      "25  2501   502.617647\n",
      "26  2601   846.366412\n",
      "27  2700   571.284404\n",
      "28  2801   697.496241\n",
      "29  2901   705.256410\n",
      "30  3005   983.360656\n",
      "31  3007  1191.833333\n",
      "32  3008   974.845361\n",
      "33  3009  1397.777778\n",
      "34  3102   859.197452\n",
      "35  3105  1155.573770\n",
      "36  3106  1538.769231\n",
      "37  3107  1251.428571\n",
      "38  3108   919.687500\n",
      "39  3202  1288.571429\n",
      "40  3203  1260.865385\n",
      "41  3204  1242.962963\n",
      "42  3205  1319.008264\n",
      "43  3207  1187.608696\n",
      "44  3208  1300.808081\n",
      "45  3209  1450.403226\n",
      "46  3306  1043.936170\n",
      "47  3307   790.142857\n",
      "48  3308  1515.897436\n",
      "49  3309  1355.714286\n",
      "50  3310  1840.574713\n",
      "51  3401  1216.019417\n",
      "52  3407   965.073529\n",
      "53  3408  1038.908046\n",
      "54  3409  1006.407767\n",
      "55  3410  1173.181818\n",
      "56  3411   891.768595\n",
      "57  3412   998.644068\n",
      "58  3413   839.483871\n",
      "59  3414   856.597938\n",
      "60  3415  1181.157895\n",
      "61  3416  1660.724638\n",
      "62  3417  1287.272727\n",
      "63  3418  1335.000000\n",
      "64  3419  1326.407767\n",
      "65  3420  1149.916667\n",
      "66  3421  1385.350318\n",
      "67  3422  1020.431034\n",
      "68  3501  1027.927711\n",
      "69  3502  1575.519481\n",
      "70  3503  1279.834025\n",
      "71  3504  1019.948718\n",
      "72  3520  1128.660714\n",
      "73  3521   872.879581\n",
      "74  3522  1217.295597\n",
      "75  3523   769.264214\n",
      "76  3524  1422.354212\n",
      "77  3525  1905.627119\n",
      "78  3526   736.289593\n",
      "79  3527   819.756098\n",
      "80  3528   693.109244\n",
      "81  3529   882.806026\n",
      "82  3530   996.470588\n",
      "83  3531   722.359551\n",
      "84  3532   688.000000\n",
      "85  3601   857.808219\n",
      "86  3602  1123.111111\n",
      "87  3700   982.625000\n"
     ]
    }
   ],
   "source": [
    "with pd.option_context('display.max_rows', None, 'display.max_columns', None):  # more options can be specified also\n",
    "    print(average_rent_per_puma)"
   ]
  },
  {
   "cell_type": "markdown",
   "metadata": {},
   "source": [
    "Total Sum of the mortgage Payments of the people per PUMA code who participated in the survey - "
   ]
  },
  {
   "cell_type": "code",
   "execution_count": 13,
   "metadata": {},
   "outputs": [],
   "source": [
    "sum_mortgage_per_puma = government.groupby(['PUMA'])['MRGP'].sum().reset_index()\n",
    "sum_mortgage_per_puma['PUMA'] = sum_mortgage_per_puma['PUMA'].astype(str)"
   ]
  },
  {
   "cell_type": "code",
   "execution_count": 14,
   "metadata": {},
   "outputs": [
    {
     "data": {
      "image/png": "[encoded data removed]",
      "text/plain": [
       "<Figure size 1440x720 with 1 Axes>"
      ]
     },
     "metadata": {
      "needs_background": "light"
     },
     "output_type": "display_data"
    }
   ],
   "source": [
    "\n",
    "\n",
    "fig, ax = plt.subplots(figsize=(20,10))\n",
    "\n",
    "plt.plot(sum_mortgage_per_puma['PUMA'],sum_mortgage_per_puma['MRGP'],color='red')\n",
    "plt.xticks(sum_mortgage_per_puma['PUMA'],rotation=90)\n",
    "#plt.xrot(rot=45)\n",
    "plt.show()\n"
   ]
  },
  {
   "cell_type": "markdown",
   "metadata": {},
   "source": [
    "What is the \"name\" of the dataset?\n",
    "##### Name of the data set is  Public Use Microdata Sample (PUMS) data from American Community Survey\n",
    "\n",
    "Where did you obtain it?\n",
    "##### I obtained it while navigating through data.gov which eventually led me to - https://www.census.gov/programs-surveys/acs/technical-documentation/pums/documentation.html\n",
    "\n",
    "Where can we obtain it? (i.e., URL)\n",
    "##### The dataset could be obtained from - https://www2.census.gov/programs-surveys/acs/data/pums/2018/1-Year/\n",
    "\n",
    "What is the license of the dataset? What are we allowed to do with it?\n",
    "The liecense of the dataset is License - Creative Commons Attribution 4.0 International (CC BY 4.0). This license lets others distribute, remix, tweak, and build upon your work, even commercially, as long as they credit you for the original creation.\n",
    "\n",
    "How big is it in file size and in items?\n",
    "The dataset is 39.2 MB in size, it is a csv file with 293833 rows and 234 columns.\n",
    "\n",
    "Make a simple plot showing a relationship of interest. You can use matplotlib or pandas (or other). Don't worry about colors, labels or anything else of that nature!"
   ]
  },
  {
   "cell_type": "code",
   "execution_count": 15,
   "metadata": {},
   "outputs": [
    {
     "ename": "FileNotFoundError",
     "evalue": "[Errno 2] File b'puma.txt' does not exist: b'puma.txt'",
     "output_type": "error",
     "traceback": [
      "\u001b[0;31m---------------------------------------------------------------------------\u001b[0m",
      "\u001b[0;31mFileNotFoundError\u001b[0m                         Traceback (most recent call last)",
      "\u001b[0;32m<ipython-input-15-0b3ac371e99d>\u001b[0m in \u001b[0;36m<module>\u001b[0;34m\u001b[0m\n\u001b[0;32m----> 1\u001b[0;31m \u001b[0mpuma\u001b[0m \u001b[0;34m=\u001b[0m \u001b[0mpd\u001b[0m\u001b[0;34m.\u001b[0m\u001b[0mread_csv\u001b[0m\u001b[0;34m(\u001b[0m\u001b[0;34m\"puma.txt\"\u001b[0m\u001b[0;34m)\u001b[0m\u001b[0;34m\u001b[0m\u001b[0;34m\u001b[0m\u001b[0m\n\u001b[0m",
      "\u001b[0;32m~/anaconda3/lib/python3.7/site-packages/pandas/io/parsers.py\u001b[0m in \u001b[0;36mparser_f\u001b[0;34m(filepath_or_buffer, sep, delimiter, header, names, index_col, usecols, squeeze, prefix, mangle_dupe_cols, dtype, engine, converters, true_values, false_values, skipinitialspace, skiprows, skipfooter, nrows, na_values, keep_default_na, na_filter, verbose, skip_blank_lines, parse_dates, infer_datetime_format, keep_date_col, date_parser, dayfirst, cache_dates, iterator, chunksize, compression, thousands, decimal, lineterminator, quotechar, quoting, doublequote, escapechar, comment, encoding, dialect, error_bad_lines, warn_bad_lines, delim_whitespace, low_memory, memory_map, float_precision)\u001b[0m\n\u001b[1;32m    683\u001b[0m         )\n\u001b[1;32m    684\u001b[0m \u001b[0;34m\u001b[0m\u001b[0m\n\u001b[0;32m--> 685\u001b[0;31m         \u001b[0;32mreturn\u001b[0m \u001b[0m_read\u001b[0m\u001b[0;34m(\u001b[0m\u001b[0mfilepath_or_buffer\u001b[0m\u001b[0;34m,\u001b[0m \u001b[0mkwds\u001b[0m\u001b[0;34m)\u001b[0m\u001b[0;34m\u001b[0m\u001b[0;34m\u001b[0m\u001b[0m\n\u001b[0m\u001b[1;32m    686\u001b[0m \u001b[0;34m\u001b[0m\u001b[0m\n\u001b[1;32m    687\u001b[0m     \u001b[0mparser_f\u001b[0m\u001b[0;34m.\u001b[0m\u001b[0m__name__\u001b[0m \u001b[0;34m=\u001b[0m \u001b[0mname\u001b[0m\u001b[0;34m\u001b[0m\u001b[0;34m\u001b[0m\u001b[0m\n",
      "\u001b[0;32m~/anaconda3/lib/python3.7/site-packages/pandas/io/parsers.py\u001b[0m in \u001b[0;36m_read\u001b[0;34m(filepath_or_buffer, kwds)\u001b[0m\n\u001b[1;32m    455\u001b[0m \u001b[0;34m\u001b[0m\u001b[0m\n\u001b[1;32m    456\u001b[0m     \u001b[0;31m# Create the parser.\u001b[0m\u001b[0;34m\u001b[0m\u001b[0;34m\u001b[0m\u001b[0;34m\u001b[0m\u001b[0m\n\u001b[0;32m--> 457\u001b[0;31m     \u001b[0mparser\u001b[0m \u001b[0;34m=\u001b[0m \u001b[0mTextFileReader\u001b[0m\u001b[0;34m(\u001b[0m\u001b[0mfp_or_buf\u001b[0m\u001b[0;34m,\u001b[0m \u001b[0;34m**\u001b[0m\u001b[0mkwds\u001b[0m\u001b[0;34m)\u001b[0m\u001b[0;34m\u001b[0m\u001b[0;34m\u001b[0m\u001b[0m\n\u001b[0m\u001b[1;32m    458\u001b[0m \u001b[0;34m\u001b[0m\u001b[0m\n\u001b[1;32m    459\u001b[0m     \u001b[0;32mif\u001b[0m \u001b[0mchunksize\u001b[0m \u001b[0;32mor\u001b[0m \u001b[0miterator\u001b[0m\u001b[0;34m:\u001b[0m\u001b[0;34m\u001b[0m\u001b[0;34m\u001b[0m\u001b[0m\n",
      "\u001b[0;32m~/anaconda3/lib/python3.7/site-packages/pandas/io/parsers.py\u001b[0m in \u001b[0;36m__init__\u001b[0;34m(self, f, engine, **kwds)\u001b[0m\n\u001b[1;32m    893\u001b[0m             \u001b[0mself\u001b[0m\u001b[0;34m.\u001b[0m\u001b[0moptions\u001b[0m\u001b[0;34m[\u001b[0m\u001b[0;34m\"has_index_names\"\u001b[0m\u001b[0;34m]\u001b[0m \u001b[0;34m=\u001b[0m \u001b[0mkwds\u001b[0m\u001b[0;34m[\u001b[0m\u001b[0;34m\"has_index_names\"\u001b[0m\u001b[0;34m]\u001b[0m\u001b[0;34m\u001b[0m\u001b[0;34m\u001b[0m\u001b[0m\n\u001b[1;32m    894\u001b[0m \u001b[0;34m\u001b[0m\u001b[0m\n\u001b[0;32m--> 895\u001b[0;31m         \u001b[0mself\u001b[0m\u001b[0;34m.\u001b[0m\u001b[0m_make_engine\u001b[0m\u001b[0;34m(\u001b[0m\u001b[0mself\u001b[0m\u001b[0;34m.\u001b[0m\u001b[0mengine\u001b[0m\u001b[0;34m)\u001b[0m\u001b[0;34m\u001b[0m\u001b[0;34m\u001b[0m\u001b[0m\n\u001b[0m\u001b[1;32m    896\u001b[0m \u001b[0;34m\u001b[0m\u001b[0m\n\u001b[1;32m    897\u001b[0m     \u001b[0;32mdef\u001b[0m \u001b[0mclose\u001b[0m\u001b[0;34m(\u001b[0m\u001b[0mself\u001b[0m\u001b[0;34m)\u001b[0m\u001b[0;34m:\u001b[0m\u001b[0;34m\u001b[0m\u001b[0;34m\u001b[0m\u001b[0m\n",
      "\u001b[0;32m~/anaconda3/lib/python3.7/site-packages/pandas/io/parsers.py\u001b[0m in \u001b[0;36m_make_engine\u001b[0;34m(self, engine)\u001b[0m\n\u001b[1;32m   1133\u001b[0m     \u001b[0;32mdef\u001b[0m \u001b[0m_make_engine\u001b[0m\u001b[0;34m(\u001b[0m\u001b[0mself\u001b[0m\u001b[0;34m,\u001b[0m \u001b[0mengine\u001b[0m\u001b[0;34m=\u001b[0m\u001b[0;34m\"c\"\u001b[0m\u001b[0;34m)\u001b[0m\u001b[0;34m:\u001b[0m\u001b[0;34m\u001b[0m\u001b[0;34m\u001b[0m\u001b[0m\n\u001b[1;32m   1134\u001b[0m         \u001b[0;32mif\u001b[0m \u001b[0mengine\u001b[0m \u001b[0;34m==\u001b[0m \u001b[0;34m\"c\"\u001b[0m\u001b[0;34m:\u001b[0m\u001b[0;34m\u001b[0m\u001b[0;34m\u001b[0m\u001b[0m\n\u001b[0;32m-> 1135\u001b[0;31m             \u001b[0mself\u001b[0m\u001b[0;34m.\u001b[0m\u001b[0m_engine\u001b[0m \u001b[0;34m=\u001b[0m \u001b[0mCParserWrapper\u001b[0m\u001b[0;34m(\u001b[0m\u001b[0mself\u001b[0m\u001b[0;34m.\u001b[0m\u001b[0mf\u001b[0m\u001b[0;34m,\u001b[0m \u001b[0;34m**\u001b[0m\u001b[0mself\u001b[0m\u001b[0;34m.\u001b[0m\u001b[0moptions\u001b[0m\u001b[0;34m)\u001b[0m\u001b[0;34m\u001b[0m\u001b[0;34m\u001b[0m\u001b[0m\n\u001b[0m\u001b[1;32m   1136\u001b[0m         \u001b[0;32melse\u001b[0m\u001b[0;34m:\u001b[0m\u001b[0;34m\u001b[0m\u001b[0;34m\u001b[0m\u001b[0m\n\u001b[1;32m   1137\u001b[0m             \u001b[0;32mif\u001b[0m \u001b[0mengine\u001b[0m \u001b[0;34m==\u001b[0m \u001b[0;34m\"python\"\u001b[0m\u001b[0;34m:\u001b[0m\u001b[0;34m\u001b[0m\u001b[0;34m\u001b[0m\u001b[0m\n",
      "\u001b[0;32m~/anaconda3/lib/python3.7/site-packages/pandas/io/parsers.py\u001b[0m in \u001b[0;36m__init__\u001b[0;34m(self, src, **kwds)\u001b[0m\n\u001b[1;32m   1915\u001b[0m         \u001b[0mkwds\u001b[0m\u001b[0;34m[\u001b[0m\u001b[0;34m\"usecols\"\u001b[0m\u001b[0;34m]\u001b[0m \u001b[0;34m=\u001b[0m \u001b[0mself\u001b[0m\u001b[0;34m.\u001b[0m\u001b[0musecols\u001b[0m\u001b[0;34m\u001b[0m\u001b[0;34m\u001b[0m\u001b[0m\n\u001b[1;32m   1916\u001b[0m \u001b[0;34m\u001b[0m\u001b[0m\n\u001b[0;32m-> 1917\u001b[0;31m         \u001b[0mself\u001b[0m\u001b[0;34m.\u001b[0m\u001b[0m_reader\u001b[0m \u001b[0;34m=\u001b[0m \u001b[0mparsers\u001b[0m\u001b[0;34m.\u001b[0m\u001b[0mTextReader\u001b[0m\u001b[0;34m(\u001b[0m\u001b[0msrc\u001b[0m\u001b[0;34m,\u001b[0m \u001b[0;34m**\u001b[0m\u001b[0mkwds\u001b[0m\u001b[0;34m)\u001b[0m\u001b[0;34m\u001b[0m\u001b[0;34m\u001b[0m\u001b[0m\n\u001b[0m\u001b[1;32m   1918\u001b[0m         \u001b[0mself\u001b[0m\u001b[0;34m.\u001b[0m\u001b[0munnamed_cols\u001b[0m \u001b[0;34m=\u001b[0m \u001b[0mself\u001b[0m\u001b[0;34m.\u001b[0m\u001b[0m_reader\u001b[0m\u001b[0;34m.\u001b[0m\u001b[0munnamed_cols\u001b[0m\u001b[0;34m\u001b[0m\u001b[0;34m\u001b[0m\u001b[0m\n\u001b[1;32m   1919\u001b[0m \u001b[0;34m\u001b[0m\u001b[0m\n",
      "\u001b[0;32mpandas/_libs/parsers.pyx\u001b[0m in \u001b[0;36mpandas._libs.parsers.TextReader.__cinit__\u001b[0;34m()\u001b[0m\n",
      "\u001b[0;32mpandas/_libs/parsers.pyx\u001b[0m in \u001b[0;36mpandas._libs.parsers.TextReader._setup_parser_source\u001b[0;34m()\u001b[0m\n",
      "\u001b[0;31mFileNotFoundError\u001b[0m: [Errno 2] File b'puma.txt' does not exist: b'puma.txt'"
     ]
    }
   ],
   "source": [
    "puma = pd.read_csv(\"puma.txt\")"
   ]
  },
  {
   "cell_type": "code",
   "execution_count": null,
   "metadata": {},
   "outputs": [],
   "source": [
    "puma"
   ]
  },
  {
   "cell_type": "markdown",
   "metadata": {},
   "source": [
    "Important Factors Available in the dataset\n",
    "\n",
    "ELEP->Electricity cost (monthly cost, use ADJHSG to adjust ELEP  to constant dollars)\n",
    "GASP->Gas Cost\n",
    "INSP->Fire/hazard/flood insurance (yearly amount, use ADJHSG to adjust INSP to constant dollars)\n",
    "MHP->Mobile Home costs\n",
    "MRGP->First mortgage payment (monthly amount, use ADJHSG to adjust MRGP to constant dollars)\n",
    "RMSP->No of Rooms\n",
    "RNTM->Meals included in rent\n",
    "RNTP->Monthly rent (use ADJHSG to adjust RNTP to constant dollars)\n",
    "RWAT->Hot and cold running water\n",
    "VALP-->Property value\n",
    "VACS-->Vacancy status\n",
    "SMP-->Total payment on all second and junior mortgages and home equity loans (monthly amount, use ADJHSG to adjust SMP to constant dollars)\n",
    "WATP-->Water cost (yearly cost, use ADJHSG to adjust WATP to constant dollars)\n",
    "FINCP-->Family income (past 12 months, use ADJINC to adjust FINCP to constant dollars)\n",
    "GRNTP-->Gross rent (monthly amount, use ADJHSG to adjust GRNTP to constant dollars)\n",
    "GRPIP-->Gross rent as a percentage of household income past 12 months\n",
    "HHLANP-->House Hold Language\n",
    "HINCP-->Household income (past 12 months, use ADJINC to adjust HINCP to constant dollars)\n",
    "OCPIP-->Selected monthly owner costs as a percentage of household income during the past 12 months\n",
    "SMOCP-->Selected monthly owner costs (use ADJHSG to adjust SMOCP to constant dollars)\n",
    "TAXAMT-->Property taxes (yearly real estate taxes)\n",
    "WIF-->Workers in family during the past 12 months\n",
    "WKEXREL-->Work experience of householder and spouse\n",
    "WORKSTAT-->Work status of householder or spouse in family households"
   ]
  },
  {
   "cell_type": "code",
   "execution_count": null,
   "metadata": {},
   "outputs": [],
   "source": [
    "features = {'ELEP':'Electricity_cost',\n",
    "'GASP':'Gas_Cost',\n",
    "'INSP':'Fire/hazard/flood_insurance',\n",
    "'MHP':'Mobile_Home_Cost',\n",
    "'MRGP':'First_Mortgage_Payment',\n",
    "'RMSP':'No_of_Rooms',\n",
    "'RNTM':'Meals_included_in_rent',\n",
    "'RNTP':'Monthly_rent',\n",
    "'RWAT':'Hot_cold_running_water',\n",
    "'VALP':'Property_Value',\n",
    "'VACS':'Vacancy_Status',\n",
    "'SMP':'Total_payment_on_all_mortgages',\n",
    "'WATP':'Water_Cost',\n",
    "'FINCP':'Family_Income',\n",
    "'GRNTP':'Gross_rent',\n",
    "'GRPIP':'Gross_rent',\n",
    "'HHLANP':'House_Hold_Language',\n",
    "'HINCP':'Household_income',\n",
    "'OCPIP':'Selected_monthly_owner_costs_as_a_percentage',\n",
    "'SMOCP':'Selected_monthly_owner_costs',\n",
    "'TAXAMT':'Property_taxes',\n",
    "'WIF':'Workers_in_family',\n",
    "'WKEXREL':'Work_experience',\n",
    "'WORKSTAT':'Work_status',\n",
    "           'BLD':'Units_in_the_Building',\n",
    "           'YBL':'Year the building was built'}\n",
    "government.rename(columns=features, inplace=True)"
   ]
  },
  {
   "cell_type": "code",
   "execution_count": null,
   "metadata": {},
   "outputs": [],
   "source": [
    "y = {1:'<1940',\n",
    "2:\"1940's\",\n",
    "3:\"1950's\",\n",
    "4:\"1960's\",\n",
    "5:\"1970's\",\n",
    "6:\"1980's\",\n",
    "7:\"1990's\",\n",
    "8:\"2000-2004\",\n",
    "9:'2005',\n",
    "10:'2006',\n",
    "11:'2007',\n",
    "12:'2008',\n",
    "13:'2009',\n",
    "14:'2010',\n",
    "15:'2011',\n",
    "16:'2012',\n",
    "17:'2013',\n",
    "18:'2014',\n",
    "19:'2015',\n",
    "20:'2016',\n",
    "21:'2017',\n",
    "22:'2018'}\n",
    "government['Year the building was built'].map(y)   "
   ]
  },
  {
   "cell_type": "code",
   "execution_count": null,
   "metadata": {},
   "outputs": [],
   "source": [
    "features.values()"
   ]
  },
  {
   "cell_type": "code",
   "execution_count": null,
   "metadata": {},
   "outputs": [],
   "source": [
    "fig, ax = plt.subplots(figsize=(18,8)) # figure size\n",
    "CAX = ax.scatter(government['Gas_Cost'],government['Monthly_rent'],c=np.log10(government['House_Hold_Language'])) #generate scatter plot with required x-axis, y-axis , colormaps and colorscale \n",
    "plt.colorbar(CAX, extend = 'both') # initialise the color bar\n",
    "plt.title(\"UFO's Dataset Visualisation with Colormap\") #Title of the plot \n",
    "plt.show()"
   ]
  },
  {
   "cell_type": "code",
   "execution_count": null,
   "metadata": {},
   "outputs": [],
   "source": [
    "@ipywidgets.interact(x_axis = features.values(),y_axis = features.values(),colorscale=features.values(),colormap = plt.colormaps()) # initialise the widgets \n",
    "def plot(x_axis = 'Gas_Cost', y_axis  = 'Monthly_rent',colormap = 'prism',colorscale='House_Hold_Language'):\n",
    "    \n",
    "    fig, ax = plt.subplots(figsize=(18,8)) # figure size\n",
    "    CAX = ax.scatter(government[x_axis],government[y_axis],c=np.log10(government[x_axis]),cmap=colormap) #generate scatter plot with required x-axis, y-axis , colormaps and colorscale \n",
    "    plt.colorbar(CAX, extend = 'both') # initialise the color bar\n",
    "    plt.title(\"PUMA's Dataset Visualisation with Colormap - \" +colormap+\" & Color Scale - \" + colorscale ) #Title of the plot \n",
    "    plt.xlabel(x_axis) #x-axis labels\n",
    "    plt.ylabel(y_axis) #y-axis labels\n",
    "    plt.show() #display the plots"
   ]
  },
  {
   "cell_type": "code",
   "execution_count": null,
   "metadata": {},
   "outputs": [],
   "source": [
    "#BLD, YBL total Property Value"
   ]
  },
  {
   "cell_type": "code",
   "execution_count": null,
   "metadata": {},
   "outputs": [],
   "source": [
    "buildings = government.groupby(['Units_in_the_Building','Year the building was built'])['Property_Value'].mean().reset_index()"
   ]
  },
  {
   "cell_type": "code",
   "execution_count": null,
   "metadata": {},
   "outputs": [],
   "source": [
    "buildings_pivot = buildings.pivot_table(columns='Units_in_the_Building',index='Year the building was built',values=['Property_Value'])\n",
    "buildings_pivot"
   ]
  },
  {
   "cell_type": "code",
   "execution_count": null,
   "metadata": {},
   "outputs": [],
   "source": [
    "buildings_values  = buildings_pivot.values\n",
    "\n",
    "bc = buildings_pivot.columns.droplevel(0)\n",
    "buildings_columns = np.array(bc)"
   ]
  },
  {
   "cell_type": "code",
   "execution_count": null,
   "metadata": {},
   "outputs": [],
   "source": [
    "# recopy our scales and axis for posterity:\n",
    "col_sc = bqplot.ColorScale(scheme = 'RePu',min=np.nanmin(buildings_pivot), \n",
    "                           max=np.nanmax(buildings_pivot)) # Colorscale with Min , Max values taken from Buildings_pivot table\n",
    "x_sc = bqplot.OrdinalScale() # Ordinal Scale\n",
    "y_sc = bqplot.OrdinalScale() \n",
    "# create axis - for colors, x & y\n",
    "c_ax = bqplot.ColorAxis(scale = col_sc, \n",
    "                        orientation = 'vertical', \n",
    "                        side = 'right' ,)\n",
    "x_ax = bqplot.Axis(scale = x_sc ,label=\"The number of units in the building\")\n",
    "y_ax = bqplot.Axis(scale = y_sc, \n",
    "                   orientation = 'vertical',label=\"Year the Building was built\")\n",
    "\n",
    "# lets now re-do our heat map & add in some interactivity:\n",
    "heat_map = bqplot.GridHeatMap(color = buildings_pivot,\n",
    "                              scales = {'color': col_sc,\n",
    "                                        'row': y_sc,\n",
    "                                        'column':x_sc },\n",
    "                              interactions = {'click': 'select'}, \n",
    "                              anchor_style = {'fill':'blue'}, \n",
    "                              selected_style = {'opacity': 1.0}, \n",
    "                              unselected_style = {'opacity': 0.8}) \n",
    "\n",
    "# stir and combine into 1 figure\n",
    "fig = bqplot.Figure(marks = [heat_map], \n",
    "                    axes = [c_ax, y_ax, x_ax])\n",
    "\n",
    "fig"
   ]
  },
  {
   "cell_type": "code",
   "execution_count": null,
   "metadata": {},
   "outputs": [],
   "source": [
    "rent = government.groupby(['Units_in_the_Building','Year the building was built'])['Monthly_rent'].value_counts().reset_index(name='count')\n",
    "rent_units= np.array(government['Units_in_the_Building'].astype('float'))\n",
    "rent_monthly = np.array(government['Monthly_rent'].astype('float'))\n",
    "rent_units = random.choices(rent_units, k=100)\n",
    "rent_monthly = random.choices(rent_monthly, k=100)\n",
    "x_scl = bqplot.LinearScale() # Linear Scale\n",
    "y_scl = bqplot.LinearScale() \n",
    "\n",
    "ax_xcl = bqplot.Axis(label='Date', scale=x_scl)\n",
    "ax_ycl = bqplot.Axis(label='Square Footage', scale=y_scl, \n",
    "                    orientation='vertical', side='left')\n",
    "\n",
    "duration_Lines = bqplot.Bars(x = rent_units,\n",
    "                               y = rent_monthly, \n",
    "                              scales={'x':x_scl, 'y':y_scl},marker_size=20\n",
    "                              \n",
    "                                      ) #plotting the line with x_axis and y_axis\n",
    "\n",
    "\n",
    "fig_dur = bqplot.Figure(marks = [duration_Lines], axes = [ax_xcl, ax_ycl]) #Plotting the figure\n",
    "fig_dur"
   ]
  },
  {
   "cell_type": "code",
   "execution_count": null,
   "metadata": {},
   "outputs": [],
   "source": [
    "rent['Monthly_rent'].max()"
   ]
  },
  {
   "cell_type": "code",
   "execution_count": null,
   "metadata": {},
   "outputs": [],
   "source": [
    "#rooms_pivot = rooms.pivot_table(columns='Units_in_the_Building',index='Year the building was built',values=['Property_Value'])\n"
   ]
  },
  {
   "cell_type": "code",
   "execution_count": null,
   "metadata": {},
   "outputs": [],
   "source": [
    "rent = government.groupby(['Units_in_the_Building','Year the building was built'])['Monthly_rent'].value_counts().reset_index(name='count')\n",
    "rent_units= np.array(rent['Units_in_the_Building'].astype('float'))\n",
    "rent_monthly = np.array(rent['Monthly_rent'].astype('float'))\n"
   ]
  },
  {
   "cell_type": "code",
   "execution_count": null,
   "metadata": {
    "scrolled": true
   },
   "outputs": [],
   "source": [
    "rent[rent['Year the building was built']==2+1]"
   ]
  },
  {
   "cell_type": "code",
   "execution_count": null,
   "metadata": {},
   "outputs": [],
   "source": [
    "# recopy our scales and axis for posterity:\n",
    "col_sc = bqplot.ColorScale(scheme = 'RePu',min=np.nanmin(buildings_pivot), \n",
    "                           max=np.nanmax(buildings_pivot)) # Colorscale with Min , Max values taken from Buildings_pivot table\n",
    "x_sc = bqplot.OrdinalScale() # Ordinal Scale\n",
    "y_sc = bqplot.OrdinalScale() \n",
    "# create axis - for colors, x & y\n",
    "c_ax = bqplot.ColorAxis(scale = col_sc, \n",
    "                        orientation = 'vertical', \n",
    "                        side = 'right' ,)\n",
    "x_ax = bqplot.Axis(scale = x_sc ,label=\"The number of units in the building\")\n",
    "y_ax = bqplot.Axis(scale = y_sc, \n",
    "                   orientation = 'vertical',label=\"Year the Building was built\")\n",
    "\n",
    "# lets now re-do our heat map & add in some interactivity:\n",
    "heat_map = bqplot.GridHeatMap(color = buildings_pivot,\n",
    "                              scales = {'color': col_sc,\n",
    "                                        'row': y_sc,\n",
    "                                        'column':x_sc },\n",
    "                              interactions = {'click': 'select'}, \n",
    "                              anchor_style = {'fill':'blue'}, \n",
    "                              selected_style = {'opacity': 1.0}, \n",
    "                              unselected_style = {'opacity': 0.8}) \n",
    "\n",
    "# stir and combine into 1 figure\n",
    "fig = bqplot.Figure(marks = [heat_map], \n",
    "                    axes = [c_ax, y_ax, x_ax])\n",
    "\n",
    "\n",
    "\n",
    "\n",
    "x_scl = bqplot.LinearScale() # Linear Scale\n",
    "y_scl = bqplot.LinearScale() \n",
    "\n",
    "ax_xcl = bqplot.Axis(label='Units in the Building', scale=x_scl)\n",
    "ax_ycl = bqplot.Axis(label='Average Monthly rent during that year', scale=y_scl, \n",
    "                    orientation='vertical', side='left')\n",
    "\n",
    "duration_Lines = bqplot.Bars(x = rent_units,\n",
    "                               y = rent_monthly, \n",
    "                              scales={'x':x_scl, 'y':y_scl},marker_size=20\n",
    "                              \n",
    "                                      ) #plotting the line with x_axis and y_axis\n",
    "\n",
    "\n",
    "fig_dur = bqplot.Figure(marks = [duration_Lines], axes = [ax_xcl, ax_ycl]) #Plotting the figure\n",
    "fig_dur\n",
    "\n",
    "\n",
    "mySelectedLabel = ipywidgets.Label()\n",
    "\n",
    "\n",
    "def get_data_value2(change):\n",
    "    i,j = change['owner'].selected[0]\n",
    "    v = buildings_values[i,j] # grab data value\n",
    "    mySelectedLabel.value = 'Value of the property in USD = ' + str(v)+'   '+str(i) # set our label\n",
    "    rent_new = rent[rent['Year the building was built']==j+1]\n",
    "    duration_Lines.x = np.array(rent_new['Units_in_the_Building']).astype('float') # Changing X-Axis for \n",
    "    duration_Lines.y = np.array(rent_new['Monthly_rent']).astype('float')\n",
    "    ax_ycl.label='Average Monthly rent during that year - ' + str(j+1)\n",
    "    \n",
    "\n",
    "heat_map.observe(get_data_value2, 'selected')\n",
    "\n",
    "\n",
    "\n",
    "fig.layout.min_width='500px'\n",
    "fig_dur.layout.min_width='500px'\n",
    "\n",
    "\n",
    "\n",
    "\n",
    "ipywidgets.VBox([mySelectedLabel, ipywidgets.HBox([fig,fig_dur])])"
   ]
  },
  {
   "cell_type": "markdown",
   "metadata": {},
   "source": [
    "Link to these Datasets - https://www2.census.gov/programs-surveys/acs/data/pums/2018/1-Year/csv_hus.zip"
   ]
  },
  {
   "cell_type": "code",
   "execution_count": null,
   "metadata": {},
   "outputs": [],
   "source": [
    "#all_states = pd.read_csv('psam_husa.csv')\n",
    "#all_states2 = pd.read_csv('psam_husb.csv')\n",
    "\n",
    "combined_states = pd.read_csv('sample.csv')"
   ]
  },
  {
   "cell_type": "code",
   "execution_count": null,
   "metadata": {},
   "outputs": [],
   "source": [
    "#combined_states = all_states.append(all_states2, ignore_index=True)"
   ]
  },
  {
   "cell_type": "code",
   "execution_count": null,
   "metadata": {},
   "outputs": [],
   "source": [
    "#combined_sample = combined_states.sample(n=10000)"
   ]
  },
  {
   "cell_type": "code",
   "execution_count": null,
   "metadata": {},
   "outputs": [],
   "source": [
    "features = {'ELEP':'Electricity_cost',\n",
    "'GASP':'Gas_Cost',\n",
    "'INSP':'Fire/hazard/flood_insurance',\n",
    "'MHP':'Mobile_Home_Cost',\n",
    "'MRGP':'First_Mortgage_Payment',\n",
    "'RMSP':'No_of_Rooms',\n",
    "'RNTM':'Meals_included_in_rent',\n",
    "'RNTP':'Monthly_rent',\n",
    "'RWAT':'Hot_cold_running_water',\n",
    "'VALP':'Property_Value',\n",
    "'VACS':'Vacancy_Status',\n",
    "'SMP':'Total_payment_on_all_mortgages',\n",
    "'WATP':'Water_Cost',\n",
    "'FINCP':'Family_Income',\n",
    "'GRNTP':'Gross_rent',\n",
    "'GRPIP':'Gross_rent',\n",
    "'HHLANP':'House_Hold_Language',\n",
    "'HINCP':'Household_income',\n",
    "'OCPIP':'Selected_monthly_owner_costs_as_a_percentage',\n",
    "'SMOCP':'Selected_monthly_owner_costs',\n",
    "'TAXAMT':'Property_taxes',\n",
    "'WIF':'Workers_in_family',\n",
    "'WKEXREL':'Work_experience',\n",
    "'WORKSTAT':'Work_status',\n",
    "           'BLD':'Units_in_the_Building',\n",
    "           'YBL':'Year the building was built'}\n",
    "combined_states.rename(columns=features, inplace=True)"
   ]
  },
  {
   "cell_type": "code",
   "execution_count": null,
   "metadata": {},
   "outputs": [],
   "source": [
    "y = {1:'<1940',\n",
    "2:\"1940's\",\n",
    "3:\"1950's\",\n",
    "4:\"1960's\",\n",
    "5:\"1970's\",\n",
    "6:\"1980's\",\n",
    "7:\"1990's\",\n",
    "8:\"2000-2004\",\n",
    "9:'2005',\n",
    "10:'2006',\n",
    "11:'2007',\n",
    "12:'2008',\n",
    "13:'2009',\n",
    "14:'2010',\n",
    "15:'2011',\n",
    "16:'2012',\n",
    "17:'2013',\n",
    "18:'2014',\n",
    "19:'2015',\n",
    "20:'2016',\n",
    "21:'2017',\n",
    "22:'2018'}\n",
    "combined_states['Year the building was built'].map(y)   "
   ]
  },
  {
   "cell_type": "code",
   "execution_count": null,
   "metadata": {},
   "outputs": [],
   "source": [
    "combined_states"
   ]
  },
  {
   "cell_type": "code",
   "execution_count": null,
   "metadata": {},
   "outputs": [],
   "source": [
    "income_by_year = combined_states.groupby(['State Code based on 2010 Census definitions','Year the building was built'])['Family_Income'].mean().reset_index()"
   ]
  },
  {
   "cell_type": "code",
   "execution_count": null,
   "metadata": {},
   "outputs": [],
   "source": [
    "income = combined_states.groupby(['State Code based on 2010 Census definitions'])['Family_Income'].mean().reset_index()\n"
   ]
  },
  {
   "cell_type": "code",
   "execution_count": null,
   "metadata": {},
   "outputs": [],
   "source": [
    "income"
   ]
  },
  {
   "cell_type": "code",
   "execution_count": null,
   "metadata": {},
   "outputs": [],
   "source": [
    "# scales\n",
    "x_scl = bqplot.LinearScale() \n",
    "y_scl = bqplot.LinearScale()\n",
    "# axis\n",
    "ax_xcl = bqplot.Axis(label='Year', scale=x_scl)\n",
    "ax_ycl = bqplot.Axis(label='Family Income distribution for that state', \n",
    "                     scale=y_scl, \n",
    "                    orientation='vertical', side='left')\n",
    "\n",
    "# marks\n",
    "lines = bqplot.Scatter(x = income_by_year['Year the building was built'], y = income_by_year['Family_Income'],\n",
    "                    scales = {'x': x_scl, 'y': y_scl})\n",
    "\n",
    "# fig\n",
    "fig_lines = bqplot.Figure(marks = [lines], axes = [ax_ycl, ax_xcl])\n",
    "fig_lines"
   ]
  },
  {
   "cell_type": "code",
   "execution_count": null,
   "metadata": {},
   "outputs": [],
   "source": [
    "income_by_year"
   ]
  },
  {
   "cell_type": "code",
   "execution_count": null,
   "metadata": {},
   "outputs": [],
   "source": []
  },
  {
   "cell_type": "code",
   "execution_count": null,
   "metadata": {},
   "outputs": [],
   "source": [
    "# (I) US STATE MAP\n",
    "\n",
    "# Scales\n",
    "sc_geo = bqplot.AlbersUSA()\n",
    "state_data = bqplot.topo_load('map_data/USStatesMap.json')\n",
    "\n",
    "# tool tip\n",
    "def_tt = bqplot.Tooltip(fields=['id', 'name'])\n",
    "\n",
    "# marks\n",
    "states_map = bqplot.Map(map_data=state_data, scales={'projection':sc_geo}, tooltip=def_tt)\n",
    "\n",
    "# interactions\n",
    "states_map.interactions = {'click': 'select', 'hover': 'tooltip'}"
   ]
  },
  {
   "cell_type": "code",
   "execution_count": null,
   "metadata": {},
   "outputs": [],
   "source": [
    "def get_ids_and_names(states_map):\n",
    "    ids = []\n",
    "    state_names = []\n",
    "    state_data_vec = states_map.map_data['objects']['subunits']['geometries']\n",
    "    for i in range(len(state_data_vec)):\n",
    "        if state_data_vec[i]['properties'] is not None:\n",
    "            state_names.append(state_data_vec[i]['properties']['name'])\n",
    "            ids.append(state_data_vec[i]['id'])\n",
    "    return np.array(ids), np.array(state_names)\n",
    "\n",
    "\n",
    "ids, state_names = get_ids_and_names(states_map)"
   ]
  },
  {
   "cell_type": "code",
   "execution_count": null,
   "metadata": {},
   "outputs": [],
   "source": [
    "# (II) LINE PLOT\n",
    "\n",
    "# scales\n",
    "x_scl = bqplot.LinearScale() \n",
    "y_scl = bqplot.LinearScale()\n",
    "\n",
    "# axis\n",
    "ax_xcl = bqplot.Axis(label='Year', scale=x_scl)\n",
    "ax_ycl = bqplot.Axis(label='Average Family Income of US', \n",
    "                     scale=y_scl, \n",
    "                    orientation='vertical', side='left')\n",
    "\n",
    "# marks\n",
    "lines = bqplot.Scatter(x = income_by_year['Year the building was built'], y = income_by_year['Family_Income'],\n",
    "                    scales = {'x': x_scl, 'y': y_scl})\n",
    "\n",
    "# fig\n",
    "fig_lines = bqplot.Figure(marks = [lines], axes = [ax_ycl, ax_xcl])"
   ]
  },
  {
   "cell_type": "code",
   "execution_count": null,
   "metadata": {},
   "outputs": [],
   "source": [
    "# (III) INTERACTIONS\n",
    "myLabel = ipywidgets.Label()\n",
    "\n",
    "# let do something additive for all states selected\n",
    "def get_data_value(change):\n",
    "    #exports = np.zeros(len(years)) # start with zeros in exports\n",
    "    snames = '' # store what state names we are plotting\n",
    "    if change['owner'].selected is not None: # something is selected\n",
    "        for i,s in enumerate(change['owner'].selected): # for all states selected\n",
    "            sn = state_names[s == ids][0] # grab the state name, note the [0] here -> try printing out and see!\n",
    "            snames += sn + ', ' # add to our label\n",
    "            inc = 'NA'\n",
    "            inc = income[income['ST']==s].iloc[0][1]\n",
    "            myLabel.value = 'State Selected ' + str(sn)+ '\\n' + ' ,  Average Family income of the currently selected state - ' + str(inc)+ ', States Selected till now ' + str(snames)+'\\n'\n",
    "    income_new = income_by_year[income_by_year['ST']==s]\n",
    "    lines.x = income_new['Year the building was built']\n",
    "    lines.y = income_new['Family_Income']\n",
    "    ax_ycl.label='Average Family income of - ' + str(sn)\n",
    "            \n",
    "\n",
    "states_map.observe(get_data_value,'selected')\n"
   ]
  },
  {
   "cell_type": "code",
   "execution_count": null,
   "metadata": {},
   "outputs": [],
   "source": [
    "# (IV) CREATE FIGS\n",
    "fig_map = bqplot.Figure(marks=[states_map], title='US States Map Example',\n",
    "                  fig_margin={'top': 0, 'bottom': 0, 'left': 0, 'right': 0})\n",
    "\n",
    "fig_lines = bqplot.Figure(marks = [lines], \n",
    "                          axes = [ax_ycl, ax_xcl])"
   ]
  },
  {
   "cell_type": "code",
   "execution_count": null,
   "metadata": {
    "scrolled": true
   },
   "outputs": [],
   "source": [
    "# (V) Display\n",
    "fig_map.layout.min_width='500px'\n",
    "fig_lines.layout.min_width='500px'\n",
    "\n",
    "myDashboard = ipywidgets.VBox([myLabel, ipywidgets.HBox([fig_map,fig_lines])])\n",
    "myDashboard"
   ]
  },
  {
   "cell_type": "code",
   "execution_count": null,
   "metadata": {},
   "outputs": [],
   "source": [
    "y = {1:'<1940',\n",
    "2:\"1940's\",\n",
    "3:\"1950's\",\n",
    "4:\"1960's\",\n",
    "5:\"1970's\",\n",
    "6:\"1980's\",\n",
    "7:\"1990's\",\n",
    "8:\"2000-2004\",\n",
    "9:'2005',\n",
    "10:'2006',\n",
    "11:'2007',\n",
    "12:'2008',\n",
    "13:'2009',\n",
    "14:'2010',\n",
    "15:'2011',\n",
    "16:'2012',\n",
    "17:'2013',\n",
    "18:'2014',\n",
    "19:'2015',\n",
    "20:'2016',\n",
    "21:'2017',\n",
    "22:'2018'}\n",
    "income_by_year['Year the building was built'].map(y) \n",
    "\n",
    " "
   ]
  },
  {
   "cell_type": "markdown",
   "metadata": {},
   "source": [
    "In this notebook , I've worked on building 3 interactive elements including two dashboards.The first interactive visualisation is used to compare different numerical values in the dataset. It helps in understanding various values and its dependency with other values. \n",
    "\n",
    "The second dashboard is a heat map with a Bar graph. The heatmap shows the average property value based on the year and number of units selected from the y and x axis. On the right, the bar graph shows the number of units on the x-axis and the average rent per unit on that given year.\n",
    "\n",
    "The Third dashboard helps in obtaining the total average income of US citizens based on the state they belong to. On the right, the scatter plot gives the average family income of the citizens of that particular state over the years."
   ]
  },
  {
   "cell_type": "markdown",
   "metadata": {},
   "source": [
    "In this notebook , I've worked on building 3 interactive elements including two dashboards.The first interactive visualisation is used to compare different numerical values in the dataset. It helps in understanding various values and its dependency with other values. \n",
    "\n",
    "The second dashboard is a heat map with a Bar graph. The heatmap shows the average property value based on the year and number of units selected from the y and x axis. On the right, the bar graph shows the number of units on the x-axis and the average rent per unit on that given year.\n",
    "\n",
    "The Third dashboard helps in obtaining the total average income of US citizens based on the state they belong to. On the right, the scatter plot gives the average family income of the citizens of that particular state over the years.\n",
    "\n",
    "On other dataset that could immensely help in my data analysis is the income tax return dataset which could be obtained from - https://www.irs.gov/statistics/soi-tax-stats-individual-income-tax-statistics-2017-zip-code-data-soi. It helps in understanding more about the financial situation of the demographics of that state."
   ]
  },
  {
   "cell_type": "code",
   "execution_count": null,
   "metadata": {},
   "outputs": [],
   "source": [
    "table_names = pd.read_csv(\"PUMS_Data_Dictionary_2018.csv\")"
   ]
  },
  {
   "cell_type": "code",
   "execution_count": null,
   "metadata": {},
   "outputs": [],
   "source": [
    "table_names.reset_index(inplace=True)\n",
    "table_names"
   ]
  },
  {
   "cell_type": "code",
   "execution_count": null,
   "metadata": {},
   "outputs": [],
   "source": [
    "table_names = table_names[table_names.level_0=='NAME']"
   ]
  },
  {
   "cell_type": "code",
   "execution_count": null,
   "metadata": {},
   "outputs": [],
   "source": [
    "table_names.drop_duplicates()"
   ]
  },
  {
   "cell_type": "code",
   "execution_count": null,
   "metadata": {},
   "outputs": [],
   "source": [
    "names_dict = dict(zip(table_names['level_1'], table_names['C']))"
   ]
  },
  {
   "cell_type": "code",
   "execution_count": null,
   "metadata": {},
   "outputs": [],
   "source": [
    "names_dict.values()"
   ]
  },
  {
   "cell_type": "code",
   "execution_count": null,
   "metadata": {},
   "outputs": [],
   "source": [
    "government"
   ]
  },
  {
   "cell_type": "code",
   "execution_count": null,
   "metadata": {},
   "outputs": [],
   "source": [
    "combined_states = combined_states.rename(columns =names_dict)"
   ]
  },
  {
   "cell_type": "code",
   "execution_count": null,
   "metadata": {},
   "outputs": [],
   "source": [
    "with pd.option_context('display.max_rows', None, 'display.max_columns', None):  # more options can be specified also\n",
    "    print(combined_states.columns)"
   ]
  },
  {
   "cell_type": "code",
   "execution_count": null,
   "metadata": {},
   "outputs": [],
   "source": []
  },
  {
   "cell_type": "code",
   "execution_count": null,
   "metadata": {},
   "outputs": [],
   "source": [
    "pd.set_option('display.max_rows', 500)\n",
    "pd.set_option('display.max_columns', 500)\n",
    "pd.set_option('display.width', 1000)\n",
    "pd.set_option('display.expand_frame_repr', False)\n",
    "pd.set_option('display.max_columns', None)  \n",
    "pd.set_option('display.expand_frame_repr', False)\n",
    "pd.set_option('max_colwidth', -1)"
   ]
  },
  {
   "cell_type": "code",
   "execution_count": null,
   "metadata": {},
   "outputs": [],
   "source": [
    "a=combined_states.columns"
   ]
  },
  {
   "cell_type": "code",
   "execution_count": null,
   "metadata": {},
   "outputs": [],
   "source": [
    "combined_sample = combined_states.sample(n=10000)\n",
    "combined_sample.to_csv('sample_five_year.csv')\n"
   ]
  },
  {
   "cell_type": "code",
   "execution_count": null,
   "metadata": {},
   "outputs": [],
   "source": []
  },
  {
   "cell_type": "code",
   "execution_count": null,
   "metadata": {},
   "outputs": [],
   "source": []
  },
  {
   "cell_type": "code",
   "execution_count": null,
   "metadata": {},
   "outputs": [],
   "source": []
  },
  {
   "cell_type": "code",
   "execution_count": null,
   "metadata": {},
   "outputs": [],
   "source": []
  },
  {
   "cell_type": "code",
   "execution_count": null,
   "metadata": {},
   "outputs": [],
   "source": []
  },
  {
   "cell_type": "code",
   "execution_count": null,
   "metadata": {},
   "outputs": [],
   "source": []
  },
  {
   "cell_type": "code",
   "execution_count": null,
   "metadata": {},
   "outputs": [],
   "source": []
  },
  {
   "cell_type": "code",
   "execution_count": null,
   "metadata": {},
   "outputs": [],
   "source": []
  },
  {
   "cell_type": "code",
   "execution_count": null,
   "metadata": {},
   "outputs": [],
   "source": []
  },
  {
   "cell_type": "code",
   "execution_count": null,
   "metadata": {},
   "outputs": [],
   "source": []
  },
  {
   "cell_type": "code",
   "execution_count": null,
   "metadata": {},
   "outputs": [],
   "source": []
  },
  {
   "cell_type": "code",
   "execution_count": null,
   "metadata": {},
   "outputs": [],
   "source": []
  },
  {
   "cell_type": "code",
   "execution_count": null,
   "metadata": {},
   "outputs": [],
   "source": []
  },
  {
   "cell_type": "code",
   "execution_count": null,
   "metadata": {},
   "outputs": [],
   "source": []
  },
  {
   "cell_type": "code",
   "execution_count": null,
   "metadata": {},
   "outputs": [],
   "source": []
  },
  {
   "cell_type": "code",
   "execution_count": null,
   "metadata": {},
   "outputs": [],
   "source": []
  },
  {
   "cell_type": "code",
   "execution_count": null,
   "metadata": {},
   "outputs": [],
   "source": []
  },
  {
   "cell_type": "code",
   "execution_count": null,
   "metadata": {},
   "outputs": [],
   "source": []
  },
  {
   "cell_type": "code",
   "execution_count": null,
   "metadata": {},
   "outputs": [],
   "source": []
  },
  {
   "cell_type": "code",
   "execution_count": null,
   "metadata": {},
   "outputs": [],
   "source": []
  },
  {
   "cell_type": "code",
   "execution_count": null,
   "metadata": {},
   "outputs": [],
   "source": []
  },
  {
   "cell_type": "code",
   "execution_count": null,
   "metadata": {},
   "outputs": [],
   "source": []
  },
  {
   "cell_type": "code",
   "execution_count": null,
   "metadata": {},
   "outputs": [],
   "source": []
  },
  {
   "cell_type": "code",
   "execution_count": null,
   "metadata": {},
   "outputs": [],
   "source": []
  },
  {
   "cell_type": "code",
   "execution_count": null,
   "metadata": {},
   "outputs": [],
   "source": []
  },
  {
   "cell_type": "code",
   "execution_count": null,
   "metadata": {},
   "outputs": [],
   "source": []
  },
  {
   "cell_type": "code",
   "execution_count": null,
   "metadata": {},
   "outputs": [],
   "source": []
  },
  {
   "cell_type": "code",
   "execution_count": null,
   "metadata": {},
   "outputs": [],
   "source": []
  },
  {
   "cell_type": "code",
   "execution_count": null,
   "metadata": {},
   "outputs": [],
   "source": []
  },
  {
   "cell_type": "code",
   "execution_count": null,
   "metadata": {},
   "outputs": [],
   "source": []
  },
  {
   "cell_type": "code",
   "execution_count": null,
   "metadata": {},
   "outputs": [],
   "source": []
  },
  {
   "cell_type": "code",
   "execution_count": null,
   "metadata": {},
   "outputs": [],
   "source": []
  },
  {
   "cell_type": "code",
   "execution_count": null,
   "metadata": {},
   "outputs": [],
   "source": []
  },
  {
   "cell_type": "code",
   "execution_count": null,
   "metadata": {},
   "outputs": [],
   "source": []
  },
  {
   "cell_type": "code",
   "execution_count": null,
   "metadata": {},
   "outputs": [],
   "source": []
  },
  {
   "cell_type": "code",
   "execution_count": null,
   "metadata": {},
   "outputs": [],
   "source": []
  },
  {
   "cell_type": "code",
   "execution_count": null,
   "metadata": {},
   "outputs": [],
   "source": []
  },
  {
   "cell_type": "code",
   "execution_count": null,
   "metadata": {},
   "outputs": [],
   "source": []
  },
  {
   "cell_type": "code",
   "execution_count": null,
   "metadata": {},
   "outputs": [],
   "source": []
  },
  {
   "cell_type": "code",
   "execution_count": null,
   "metadata": {},
   "outputs": [],
   "source": []
  },
  {
   "cell_type": "code",
   "execution_count": null,
   "metadata": {},
   "outputs": [],
   "source": []
  },
  {
   "cell_type": "code",
   "execution_count": null,
   "metadata": {},
   "outputs": [],
   "source": []
  },
  {
   "cell_type": "code",
   "execution_count": null,
   "metadata": {},
   "outputs": [],
   "source": []
  },
  {
   "cell_type": "code",
   "execution_count": null,
   "metadata": {},
   "outputs": [],
   "source": []
  },
  {
   "cell_type": "code",
   "execution_count": null,
   "metadata": {},
   "outputs": [],
   "source": []
  },
  {
   "cell_type": "code",
   "execution_count": null,
   "metadata": {},
   "outputs": [],
   "source": []
  },
  {
   "cell_type": "code",
   "execution_count": null,
   "metadata": {},
   "outputs": [],
   "source": []
  },
  {
   "cell_type": "code",
   "execution_count": null,
   "metadata": {},
   "outputs": [],
   "source": []
  },
  {
   "cell_type": "code",
   "execution_count": null,
   "metadata": {},
   "outputs": [],
   "source": []
  },
  {
   "cell_type": "code",
   "execution_count": null,
   "metadata": {},
   "outputs": [],
   "source": []
  },
  {
   "cell_type": "code",
   "execution_count": null,
   "metadata": {},
   "outputs": [],
   "source": []
  },
  {
   "cell_type": "code",
   "execution_count": null,
   "metadata": {},
   "outputs": [],
   "source": []
  },
  {
   "cell_type": "code",
   "execution_count": null,
   "metadata": {},
   "outputs": [],
   "source": []
  },
  {
   "cell_type": "code",
   "execution_count": null,
   "metadata": {},
   "outputs": [],
   "source": []
  },
  {
   "cell_type": "code",
   "execution_count": null,
   "metadata": {},
   "outputs": [],
   "source": []
  },
  {
   "cell_type": "code",
   "execution_count": null,
   "metadata": {},
   "outputs": [],
   "source": []
  },
  {
   "cell_type": "code",
   "execution_count": null,
   "metadata": {},
   "outputs": [],
   "source": []
  },
  {
   "cell_type": "code",
   "execution_count": null,
   "metadata": {},
   "outputs": [],
   "source": []
  },
  {
   "cell_type": "code",
   "execution_count": null,
   "metadata": {},
   "outputs": [],
   "source": []
  },
  {
   "cell_type": "code",
   "execution_count": null,
   "metadata": {},
   "outputs": [],
   "source": []
  },
  {
   "cell_type": "code",
   "execution_count": null,
   "metadata": {},
   "outputs": [],
   "source": []
  },
  {
   "cell_type": "code",
   "execution_count": null,
   "metadata": {},
   "outputs": [],
   "source": []
  },
  {
   "cell_type": "code",
   "execution_count": null,
   "metadata": {},
   "outputs": [],
   "source": []
  },
  {
   "cell_type": "code",
   "execution_count": null,
   "metadata": {},
   "outputs": [],
   "source": []
  },
  {
   "cell_type": "code",
   "execution_count": null,
   "metadata": {},
   "outputs": [],
   "source": []
  },
  {
   "cell_type": "code",
   "execution_count": null,
   "metadata": {},
   "outputs": [],
   "source": []
  }
 ],
 "metadata": {
  "kernelspec": {
   "display_name": "Python 3",
   "language": "python",
   "name": "python3"
  },
  "language_info": {
   "codemirror_mode": {
    "name": "ipython",
    "version": 3
   },
   "file_extension": ".py",
   "mimetype": "text/x-python",
   "name": "python",
   "nbconvert_exporter": "python",
   "pygments_lexer": "ipython3",
   "version": "3.7.3"
  }
 },
 "nbformat": 4,
 "nbformat_minor": 2
}
